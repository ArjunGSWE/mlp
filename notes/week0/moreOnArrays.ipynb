{
  "nbformat": 4,
  "nbformat_minor": 0,
  "metadata": {
    "colab": {
      "provenance": []
    },
    "kernelspec": {
      "name": "python3",
      "display_name": "Python 3"
    },
    "language_info": {
      "name": "python"
    }
  },
  "cells": [
    {
      "cell_type": "code",
      "execution_count": 1,
      "metadata": {
        "id": "xb9UGmAAQr9a"
      },
      "outputs": [],
      "source": [
        "import numpy as np"
      ]
    },
    {
      "cell_type": "markdown",
      "source": [
        "## Arrays\n",
        "\n",
        "It should have become amply clear by now that both vectors and matrices are `NumPy` arrays. Each array in `NumPy` has a dimension. Vectors are one-dimensional arrays while matrices are two-dimensional arrays. For example:\n",
        "\n",
        "$$\n",
        "\\mathbf{x} = \\begin{bmatrix}\n",
        "1\\\\\n",
        "2\\\\\n",
        "3\n",
        "\\end{bmatrix},\n",
        "\\mathbf{M} = \\begin{bmatrix}\n",
        "1 & 2\\\\\n",
        "3 & 4\\\\\n",
        "5 & 6\n",
        "\\end{bmatrix}\n",
        "$$\n",
        "\n",
        "`NumPy` arrays have an attribute called `ndim` that gives the number of dimensions of the array:"
      ],
      "metadata": {
        "id": "p-S6SJWNQy8J"
      }
    },
    {
      "cell_type": "code",
      "source": [
        "M = np.array([[1, 2], [3, 4], [5, 6]])\n",
        "x = np.array([1, 2, 3])\n",
        "\n",
        "print(\"Shape of M is\", M.shape)\n",
        "print(\"Shape of x is\", x.shape)\n",
        "\n",
        "print(\"M is an array of dimension\", M.ndim)\n",
        "print(\"x is an array of dimension\", x.ndim)"
      ],
      "metadata": {
        "colab": {
          "base_uri": "https://localhost:8080/"
        },
        "id": "t8Uji4eLRVNC",
        "outputId": "9ae1bc36-1c80-4434-dae4-29d68154b880"
      },
      "execution_count": null,
      "outputs": [
        {
          "output_type": "stream",
          "name": "stdout",
          "text": [
            "Shape of M is (3, 2)\n",
            "Shape of x is (3,)\n",
            "M is an array of dimension 2\n",
            "x is an array of dimension 1\n"
          ]
        }
      ]
    },
    {
      "cell_type": "markdown",
      "source": [
        "Though we will mostly restrict ourselves to arrays of dimension 2, nothing stops us from working with higher dimensional arrays. For example, consider a 3-dimensional array. This could be visualized as a list of matrices:\n",
        "\n",
        "$$\n",
        "\\begin{bmatrix}\n",
        "\\begin{bmatrix}\n",
        "1 & 2 & 3 & 4\\\\\n",
        "5 & 6 & 7 & 8\\\\\n",
        "9 & 10 & 11 & 12\n",
        "\\end{bmatrix}\\\\\n",
        "\\begin{bmatrix}\n",
        "13 & 14 & 15 & 16\\\\\n",
        "17 & 18 & 19 & 20\\\\\n",
        "21 & 22 & 23 & 24\n",
        "\\end{bmatrix}\\\\\n",
        "\\end{bmatrix}\n",
        "$$\n",
        "\n",
        "This would be a $2 \\times 3 \\times 4$ array. In `NumPy` this becomes:"
      ],
      "metadata": {
        "id": "RFXQrMwDVLcS"
      }
    },
    {
      "cell_type": "code",
      "source": [
        "M = np.array([\n",
        "    [[1, 2, 3, 4],\n",
        "     [5, 6, 7, 8],\n",
        "     [9, 10, 11, 12]],\n",
        "    [[13, 14, 15, 16],\n",
        "     [17, 18, 19, 20],\n",
        "     [21, 22, 23, 24]]\n",
        "])\n",
        "M"
      ],
      "metadata": {
        "colab": {
          "base_uri": "https://localhost:8080/"
        },
        "id": "R2fxOXHdRnc8",
        "outputId": "66739b8b-7673-481e-c134-968c9edc914c"
      },
      "execution_count": null,
      "outputs": [
        {
          "output_type": "execute_result",
          "data": {
            "text/plain": [
              "array([[[ 1,  2,  3,  4],\n",
              "        [ 5,  6,  7,  8],\n",
              "        [ 9, 10, 11, 12]],\n",
              "\n",
              "       [[13, 14, 15, 16],\n",
              "        [17, 18, 19, 20],\n",
              "        [21, 22, 23, 24]]])"
            ]
          },
          "metadata": {},
          "execution_count": 6
        }
      ]
    },
    {
      "cell_type": "markdown",
      "source": [
        "## Reshaping\n",
        "\n",
        "Arrays can be reshaped. We will start with an example. Let us start with a matrix $\\mathbf{M}$:\n",
        "\n",
        "$$\n",
        "\\mathbf{M} = \\begin{bmatrix}\n",
        "1 & 2 & 3\\\\\n",
        "4 & 5 & 6\n",
        "\\end{bmatrix}\n",
        "$$\n",
        "\n",
        "We can now reshape it into a vector:\n",
        "\n",
        "$$\n",
        "\\mathbf{x} = \\begin{bmatrix}\n",
        "1 & 2 & 3 & 4 & 5 & 6\n",
        "\\end{bmatrix}\n",
        "$$\n",
        "\n"
      ],
      "metadata": {
        "id": "X6dvM6TyV6N7"
      }
    },
    {
      "cell_type": "code",
      "source": [
        "M = np.array([[1, 2, 3], [4, 5, 6]])\n",
        "x = M.reshape(6)"
      ],
      "metadata": {
        "id": "nBPg0kdBV63H"
      },
      "execution_count": null,
      "outputs": []
    },
    {
      "cell_type": "markdown",
      "source": [
        "Note that the contents of the array are the same, but they have been rearranged. We can also go the other way, from vector to matrix:\n",
        "\n",
        "$$\n",
        "\\mathbf{x} = \\begin{bmatrix}\n",
        "1 & 2 & 3 & 4 & 5 & 6\n",
        "\\end{bmatrix}\n",
        "$$\n",
        "\n",
        "We can reshape it into the following matrix:\n",
        "\n",
        "$$\n",
        "\\mathbf{M} = \\begin{bmatrix}\n",
        "1 & 2\\\\\n",
        "3 & 4\\\\\n",
        "5 & 6\n",
        "\\end{bmatrix}\n",
        "$$"
      ],
      "metadata": {
        "id": "srT0K7Q6WXqS"
      }
    },
    {
      "cell_type": "code",
      "source": [
        "x = np.array([1, 2, 3, 4, 5, 6])\n",
        "M = x.reshape(3, 2)\n",
        "M"
      ],
      "metadata": {
        "colab": {
          "base_uri": "https://localhost:8080/"
        },
        "id": "M0wgk9MoWX6-",
        "outputId": "7fd2011c-2432-4d22-9fb8-d9c8d24e2fc9"
      },
      "execution_count": null,
      "outputs": [
        {
          "output_type": "execute_result",
          "data": {
            "text/plain": [
              "array([[1, 2],\n",
              "       [3, 4],\n",
              "       [5, 6]])"
            ]
          },
          "metadata": {},
          "execution_count": 11
        }
      ]
    },
    {
      "cell_type": "code",
      "source": [
        "x = np.array([1, 2, 3, 4, 5, 6, 7])\n",
        "M = x.reshape(3, 2) # will throw ValueError: cannot reshape array of size 7 into shape (3,2)"
      ],
      "metadata": {
        "colab": {
          "base_uri": "https://localhost:8080/",
          "height": 158
        },
        "id": "37pki4DbWzBz",
        "outputId": "90ce496e-18f8-4ad9-c3f5-11ca9dfb84cb"
      },
      "execution_count": null,
      "outputs": [
        {
          "output_type": "error",
          "ename": "ValueError",
          "evalue": "cannot reshape array of size 7 into shape (3,2)",
          "traceback": [
            "\u001b[0;31m---------------------------------------------------------------------------\u001b[0m",
            "\u001b[0;31mValueError\u001b[0m                                Traceback (most recent call last)",
            "\u001b[0;32m<ipython-input-12-0a40eca09e45>\u001b[0m in \u001b[0;36m<cell line: 0>\u001b[0;34m()\u001b[0m\n\u001b[1;32m      1\u001b[0m \u001b[0mx\u001b[0m \u001b[0;34m=\u001b[0m \u001b[0mnp\u001b[0m\u001b[0;34m.\u001b[0m\u001b[0marray\u001b[0m\u001b[0;34m(\u001b[0m\u001b[0;34m[\u001b[0m\u001b[0;36m1\u001b[0m\u001b[0;34m,\u001b[0m \u001b[0;36m2\u001b[0m\u001b[0;34m,\u001b[0m \u001b[0;36m3\u001b[0m\u001b[0;34m,\u001b[0m \u001b[0;36m4\u001b[0m\u001b[0;34m,\u001b[0m \u001b[0;36m5\u001b[0m\u001b[0;34m,\u001b[0m \u001b[0;36m6\u001b[0m\u001b[0;34m,\u001b[0m \u001b[0;36m7\u001b[0m\u001b[0;34m]\u001b[0m\u001b[0;34m)\u001b[0m\u001b[0;34m\u001b[0m\u001b[0;34m\u001b[0m\u001b[0m\n\u001b[0;32m----> 2\u001b[0;31m \u001b[0mM\u001b[0m \u001b[0;34m=\u001b[0m \u001b[0mx\u001b[0m\u001b[0;34m.\u001b[0m\u001b[0mreshape\u001b[0m\u001b[0;34m(\u001b[0m\u001b[0;36m3\u001b[0m\u001b[0;34m,\u001b[0m \u001b[0;36m2\u001b[0m\u001b[0;34m)\u001b[0m\u001b[0;34m\u001b[0m\u001b[0;34m\u001b[0m\u001b[0m\n\u001b[0m",
            "\u001b[0;31mValueError\u001b[0m: cannot reshape array of size 7 into shape (3,2)"
          ]
        }
      ]
    },
    {
      "cell_type": "markdown",
      "source": [
        "We can reshape a matrix into another matrix as well. Sometimes, we may not want to specify the dimensions completely. In such cases, we can let `NumPy` figure it out. For example\n",
        "\n",
        "$$\n",
        "\\mathbf{M} = \\begin{bmatrix}\n",
        "1 & 2 & 3\\\\\n",
        "4 & 5 & 6\n",
        "\\end{bmatrix}\n",
        "$$\n",
        "\n",
        "Let us say we want to reshape it in such a way that there are three rows:\n",
        "\n",
        "$$\n",
        "\\mathbf{P} = \\begin{bmatrix}\n",
        "1 & 2\\\\\n",
        "3 & 4\\\\\n",
        "5 & 6\n",
        "\\end{bmatrix}\n",
        "$$\n",
        "\n"
      ],
      "metadata": {
        "id": "IAozGkTiWRPX"
      }
    },
    {
      "cell_type": "code",
      "source": [
        "M = np.array([[1, 2, 3], [4, 5, 6]])\n",
        "P = M.reshape(3, -1)\n",
        "P"
      ],
      "metadata": {
        "colab": {
          "base_uri": "https://localhost:8080/"
        },
        "id": "j4VRjUHwWTVA",
        "outputId": "f7e82c4e-a704-429c-ed42-5d467a6ef6d9"
      },
      "execution_count": null,
      "outputs": [
        {
          "output_type": "execute_result",
          "data": {
            "text/plain": [
              "array([[1, 2],\n",
              "       [3, 4],\n",
              "       [5, 6]])"
            ]
          },
          "metadata": {},
          "execution_count": 13
        }
      ]
    },
    {
      "cell_type": "markdown",
      "source": [
        "$-1$ refers to the unknown dimension, which we let `NumPy` compute."
      ],
      "metadata": {
        "id": "Fms3oOaAXMGi"
      }
    },
    {
      "cell_type": "markdown",
      "source": [
        "## Matrix-vector addition (broadcasting)\n",
        "\n",
        "In many ML models, we would have to add a vector to each row or column of a matrix. For example, consider the following case for row-wise addition:\n",
        "\n",
        "\n",
        "### Row-wise addition\n",
        "\n",
        "$$\n",
        "\\mathbf{M} = \\begin{bmatrix}\n",
        "1 & 2 & 3 & 4\\\\\n",
        "5 & 6 & 7 & 8\n",
        "\\end{bmatrix}, \\mathbf{b} = \\begin{bmatrix}\n",
        "1 & 1 & 1 & 1\n",
        "\\end{bmatrix}\n",
        "$$\n",
        "\n",
        "This is slight abuse of notation as we can't add a matrix and a vector together. However, the context often makes this clear:\n",
        "\n",
        "$$\n",
        "\\mathbf{M} + \\mathbf{b} = \\begin{bmatrix}\n",
        "2 & 3 & 4 & 5\\\\\n",
        "6 & 7 & 8 & 9\n",
        "\\end{bmatrix}\n",
        "$$\n",
        "\n",
        "In `NumPy` this becomes:"
      ],
      "metadata": {
        "id": "-HzQhhJeXS0m"
      }
    },
    {
      "cell_type": "code",
      "source": [
        "M = np.array([[1, 2, 3, 4], [5, 6, 7, 8]])\n",
        "b = np.array([1, 1, 1, 1])\n",
        "\n",
        "print(\"shape of M:\", M.shape)\n",
        "print(\"shape of b:\", b.shape)\n",
        "\n",
        "M + b"
      ],
      "metadata": {
        "colab": {
          "base_uri": "https://localhost:8080/"
        },
        "id": "iAu-69k4YX6L",
        "outputId": "d3487631-6ce5-4a44-efbe-a50b9842a7fe"
      },
      "execution_count": null,
      "outputs": [
        {
          "output_type": "stream",
          "name": "stdout",
          "text": [
            "shape of M: (2, 4)\n",
            "shape of b: (4,)\n"
          ]
        },
        {
          "output_type": "execute_result",
          "data": {
            "text/plain": [
              "array([[2, 3, 4, 5],\n",
              "       [6, 7, 8, 9]])"
            ]
          },
          "metadata": {},
          "execution_count": 15
        }
      ]
    },
    {
      "cell_type": "markdown",
      "source": [
        "Notice how simple this is. Let us now do a slight variation. Let us say we wish to add a vector to each column of $\\mathbf{M}$:\n",
        "\n",
        "## Column-wise addition\n",
        "\n",
        "$$\n",
        "\\mathbf{M} = \\begin{bmatrix}\n",
        "1 & 2 & 3 & 4\\\\\n",
        "5 & 6 & 7 & 8\n",
        "\\end{bmatrix}, \\mathbf{b} = \\begin{bmatrix}\n",
        "1\\\\\n",
        "2\n",
        "\\end{bmatrix}\n",
        "$$\n",
        "\n",
        "In the case, we have:\n",
        "\n",
        "$$\n",
        "\\mathbf{M} + \\mathbf{b} = \\begin{bmatrix}\n",
        "2 & 3 & 4 & 5\\\\\n",
        "7 & 8 & 9 & 10\n",
        "\\end{bmatrix}\n",
        "$$\n",
        "\n",
        "Let us see if the same syntax works:"
      ],
      "metadata": {
        "id": "25eVs32BfvEg"
      }
    },
    {
      "cell_type": "code",
      "source": [
        "M = np.array([[1, 2, 3, 4],[5, 6, 7, 8]])\n",
        "b = np.array([1, 2])\n",
        "\n",
        "M + b # this throws ValueError: operands could not be broadcast together with shapes (2,4) (2,)"
      ],
      "metadata": {
        "colab": {
          "base_uri": "https://localhost:8080/",
          "height": 176
        },
        "id": "xvOccz3jfvuU",
        "outputId": "48671df1-ffd1-4c28-98a0-89c36410e6d3"
      },
      "execution_count": null,
      "outputs": [
        {
          "output_type": "error",
          "ename": "ValueError",
          "evalue": "operands could not be broadcast together with shapes (2,4) (2,) ",
          "traceback": [
            "\u001b[0;31m---------------------------------------------------------------------------\u001b[0m",
            "\u001b[0;31mValueError\u001b[0m                                Traceback (most recent call last)",
            "\u001b[0;32m<ipython-input-16-d18d33d19134>\u001b[0m in \u001b[0;36m<cell line: 0>\u001b[0;34m()\u001b[0m\n\u001b[1;32m      2\u001b[0m \u001b[0mb\u001b[0m \u001b[0;34m=\u001b[0m \u001b[0mnp\u001b[0m\u001b[0;34m.\u001b[0m\u001b[0marray\u001b[0m\u001b[0;34m(\u001b[0m\u001b[0;34m[\u001b[0m\u001b[0;36m1\u001b[0m\u001b[0;34m,\u001b[0m \u001b[0;36m2\u001b[0m\u001b[0;34m]\u001b[0m\u001b[0;34m)\u001b[0m\u001b[0;34m\u001b[0m\u001b[0;34m\u001b[0m\u001b[0m\n\u001b[1;32m      3\u001b[0m \u001b[0;34m\u001b[0m\u001b[0m\n\u001b[0;32m----> 4\u001b[0;31m \u001b[0mM\u001b[0m \u001b[0;34m+\u001b[0m \u001b[0mb\u001b[0m\u001b[0;34m\u001b[0m\u001b[0;34m\u001b[0m\u001b[0m\n\u001b[0m",
            "\u001b[0;31mValueError\u001b[0m: operands could not be broadcast together with shapes (2,4) (2,) "
          ]
        }
      ]
    },
    {
      "cell_type": "markdown",
      "source": [
        "If you uncomment it and run it, you get a ValueError. Notice that the same syntax doesn't work. The error is suggestive:\n",
        "\n",
        "> operands could not be broadcast together with shapes `(2, 4)` and `(2, )`\n",
        "\n",
        "We will first discuss a way to fix this and then move onto why this behaviour is observed.\n"
      ],
      "metadata": {
        "id": "riaf_6d-gPpY"
      }
    },
    {
      "cell_type": "code",
      "source": [],
      "metadata": {
        "id": "9oZhmYhpgQZ7"
      },
      "execution_count": null,
      "outputs": []
    },
    {
      "cell_type": "markdown",
      "source": [],
      "metadata": {
        "id": "UiEfPZUVpfal"
      }
    },
    {
      "cell_type": "markdown",
      "source": [
        "## Indexing and Slicing an array\n",
        "\n",
        "Just like lists in Python, `NumPy` arrays can be indexed and sliced. Slicing is useful if we want to work with a portion of an array. For example, consider the matrix $\\mathbf{M}$:\n",
        "\n",
        "$$\n",
        "\\mathbf{M} = \\begin{bmatrix}\n",
        "1 & 2\\\\\n",
        "3 & 4\\\\\n",
        "5 & 6\\\\\n",
        "7 & 8\\\\\n",
        "9 & 10\n",
        "\\end{bmatrix}\n",
        "$$\n",
        "\n",
        "The third row of this matrix is `M[2]`. This is just basic indexing."
      ],
      "metadata": {
        "id": "60d6HS6cpf1T"
      }
    },
    {
      "cell_type": "code",
      "source": [
        "M = np.array([[1, 2], [3, 4], [5, 6], [7, 8], [9, 10]])\n",
        "M[2]"
      ],
      "metadata": {
        "colab": {
          "base_uri": "https://localhost:8080/"
        },
        "id": "C2CKF7Wqpgip",
        "outputId": "ac61fd1a-4382-4ffa-e972-3fdcc95847c4"
      },
      "execution_count": null,
      "outputs": [
        {
          "output_type": "execute_result",
          "data": {
            "text/plain": [
              "array([5, 6])"
            ]
          },
          "metadata": {},
          "execution_count": 19
        }
      ]
    },
    {
      "cell_type": "markdown",
      "source": [],
      "metadata": {
        "id": "iuR3IWU5p2f0"
      }
    },
    {
      "cell_type": "code",
      "source": [],
      "metadata": {
        "id": "3g3K9pGhp2Kv"
      },
      "execution_count": null,
      "outputs": []
    }
  ]
}