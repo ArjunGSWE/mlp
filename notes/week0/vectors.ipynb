{
  "nbformat": 4,
  "nbformat_minor": 0,
  "metadata": {
    "colab": {
      "provenance": []
    },
    "kernelspec": {
      "name": "python3",
      "display_name": "Python 3"
    },
    "language_info": {
      "name": "python"
    }
  },
  "cells": [
    {
      "cell_type": "markdown",
      "source": [
        "## Import\n",
        "\n",
        "First we shall import the `NumPy` package."
      ],
      "metadata": {
        "id": "fro51Ngky-Hn"
      }
    },
    {
      "cell_type": "code",
      "execution_count": null,
      "metadata": {
        "id": "PTEgEWPyMdM0"
      },
      "outputs": [],
      "source": [
        "import numpy as np"
      ]
    },
    {
      "cell_type": "markdown",
      "source": [
        "## Vectors as `NumPy` arrays\n",
        "\n",
        "Consider the following vector:\n",
        "\n",
        "$$\n",
        "\\boldsymbol{x} = \\begin{bmatrix}\n",
        "1\\\\\n",
        "2\\\\\n",
        "3\n",
        "\\end{bmatrix}\n",
        "$$\n",
        "\n",
        "This is expressed as a `NumPy` array:"
      ],
      "metadata": {
        "id": "txKM70Zvy_Hm"
      }
    },
    {
      "cell_type": "code",
      "source": [
        "x = np.array([1, 2, 3])\n",
        "x"
      ],
      "metadata": {
        "colab": {
          "base_uri": "https://localhost:8080/"
        },
        "id": "LB951gzAMnGA",
        "outputId": "e1db94ae-0f87-46d4-c54f-9e31f9b8be3d"
      },
      "execution_count": null,
      "outputs": [
        {
          "output_type": "execute_result",
          "data": {
            "text/plain": [
              "array([1, 2, 3])"
            ]
          },
          "metadata": {},
          "execution_count": 3
        }
      ]
    },
    {
      "cell_type": "markdown",
      "source": [
        "In the cell given above, `np.array` creates a `NumPy` array using a Python list that is passed as argument. Let us check the type of the object `x`:"
      ],
      "metadata": {
        "id": "fBdt6kTuzH9U"
      }
    },
    {
      "cell_type": "code",
      "source": [
        "type(x)"
      ],
      "metadata": {
        "colab": {
          "base_uri": "https://localhost:8080/"
        },
        "id": "LNuYoIyYzIzU",
        "outputId": "41d5a924-e3d5-4c48-bfde-ff10abe3d44c"
      },
      "execution_count": null,
      "outputs": [
        {
          "output_type": "execute_result",
          "data": {
            "text/plain": [
              "numpy.ndarray"
            ]
          },
          "metadata": {},
          "execution_count": 4
        }
      ]
    },
    {
      "cell_type": "markdown",
      "source": [
        "The term `ndarray` refers to an n-dimensional array. The idea of dimensions will become clear when we discuss matrices. For now, our focus will be one-dimensional arrays, or vectors."
      ],
      "metadata": {
        "id": "sJc5sxe6zV1j"
      }
    },
    {
      "cell_type": "markdown",
      "source": [
        "## Vector addition\n",
        "\n",
        "Addition is one of the elementary operations that can be performed on vectors. Given two vectors\n",
        "\n",
        "$$\n",
        "x = \\begin{bmatrix}\n",
        "1\\\\\n",
        "2\\\\\n",
        "3\n",
        "\\end{bmatrix}, y = \\begin{bmatrix}\n",
        "4\\\\\n",
        "5\\\\\n",
        "6\n",
        "\\end{bmatrix}\n",
        "$$\n",
        "\n",
        "we have:\n",
        "\n",
        "$$\n",
        "\\boldsymbol{z} = \\boldsymbol{x} + \\boldsymbol{y}= \\begin{bmatrix}\n",
        "5\\\\\n",
        "7\\\\\n",
        "9\n",
        "\\end{bmatrix}\n",
        "$$\n",
        "\n",
        "In `NumPy` this is expressed as:"
      ],
      "metadata": {
        "id": "IvLdM_VazZVb"
      }
    },
    {
      "cell_type": "code",
      "source": [
        "y = np.array([4, 5, 6])\n",
        "x + y"
      ],
      "metadata": {
        "colab": {
          "base_uri": "https://localhost:8080/"
        },
        "id": "3OJYXIrAMuIe",
        "outputId": "5b671b1c-fd73-4697-9344-333e005b42aa"
      },
      "execution_count": null,
      "outputs": [
        {
          "output_type": "execute_result",
          "data": {
            "text/plain": [
              "array([5, 7, 9])"
            ]
          },
          "metadata": {},
          "execution_count": 31
        }
      ]
    },
    {
      "cell_type": "markdown",
      "source": [
        "## Element-wise multiplication\n",
        "\n",
        "Element-wise multiplication of two vectors is called the Hadamard product. The operator corresponding to it is $\\odot$. For example, given two vectors:\n",
        "\n",
        "$$\n",
        "x = \\begin{bmatrix}\n",
        "1\\\\\n",
        "2\\\\\n",
        "3\n",
        "\\end{bmatrix}, y = \\begin{bmatrix}\n",
        "4\\\\\n",
        "5\\\\\n",
        "6\n",
        "\\end{bmatrix}\n",
        "$$\n",
        "\n",
        "we have:\n",
        "\n",
        "$$\n",
        "\\boldsymbol{z} = \\boldsymbol{x} \\odot \\boldsymbol{y}= \\begin{bmatrix}\n",
        "4\\\\\n",
        "10\\\\\n",
        "18\n",
        "\\end{bmatrix}\n",
        "$$\n",
        "\n",
        "In `NumPy` this is expressed as:"
      ],
      "metadata": {
        "id": "XwjtYYlzzgU5"
      }
    },
    {
      "cell_type": "code",
      "source": [
        "x*y"
      ],
      "metadata": {
        "id": "6tT0LJilM1-t",
        "colab": {
          "base_uri": "https://localhost:8080/"
        },
        "outputId": "e59b618a-d94c-4148-cb66-da88ee20633c"
      },
      "execution_count": null,
      "outputs": [
        {
          "output_type": "execute_result",
          "data": {
            "text/plain": [
              "array([ 4, 10, 18])"
            ]
          },
          "metadata": {},
          "execution_count": 32
        }
      ]
    },
    {
      "cell_type": "markdown",
      "source": [
        "## Scaling vectors\n",
        "\n",
        "If $\\boldsymbol{x}$ is a vector, scaling it by a constant $k$ is equivalent to element-wise multiplication by $k$. For example, given\n",
        "\n",
        "$$\n",
        "\\boldsymbol{x} = \\begin{bmatrix}\n",
        "1\\\\\n",
        "2\\\\\n",
        "3\n",
        "\\end{bmatrix}\n",
        "$$\n",
        "\n",
        "we have:\n",
        "\n",
        "$$\n",
        "b = 3 \\boldsymbol{x} = \\begin{bmatrix}\n",
        "3\\\\\n",
        "6\\\\\n",
        "9\n",
        "\\end{bmatrix}\n",
        "$$\n",
        "\n",
        "As you might have guessed by now, in `NumPy` this is as simple as:"
      ],
      "metadata": {
        "id": "fUlWuCEmzvwL"
      }
    },
    {
      "cell_type": "code",
      "source": [
        "b = 3 * x\n",
        "b"
      ],
      "metadata": {
        "colab": {
          "base_uri": "https://localhost:8080/"
        },
        "id": "vCPAMVWCzzYS",
        "outputId": "3f25b833-d067-4239-b5b2-cc4c9217eff4"
      },
      "execution_count": null,
      "outputs": [
        {
          "output_type": "execute_result",
          "data": {
            "text/plain": [
              "array([3, 6, 9])"
            ]
          },
          "metadata": {},
          "execution_count": 33
        }
      ]
    },
    {
      "cell_type": "markdown",
      "source": [
        "Again note that this is different from what you would expect with a Python list. The `*` operator for lists would result in replication. Besides, we can multiply a `NumPy` array by any real number, even $0$:"
      ],
      "metadata": {
        "id": "hFn0e6jt0CZN"
      }
    },
    {
      "cell_type": "code",
      "source": [
        "b = 0 * x\n",
        "b"
      ],
      "metadata": {
        "colab": {
          "base_uri": "https://localhost:8080/"
        },
        "id": "cW6XOiYh0C4G",
        "outputId": "97e9ebb4-7686-4c55-b94b-338da48041b7"
      },
      "execution_count": null,
      "outputs": [
        {
          "output_type": "execute_result",
          "data": {
            "text/plain": [
              "array([0, 0, 0])"
            ]
          },
          "metadata": {},
          "execution_count": 34
        }
      ]
    },
    {
      "cell_type": "markdown",
      "source": [
        "## Element-wise functions of vectors\n",
        "\n",
        "Scaling a vector $\\boldsymbol{x}$ by a constant $k$ can be seen as the output of the following function:\n",
        "\n",
        "$$\n",
        "f(\\boldsymbol{x}) = \\begin{bmatrix}\n",
        "kx_1\\\\\n",
        "\\cdots\\\\\n",
        "kx_m\n",
        "\\end{bmatrix}\n",
        "$$\n",
        "\n",
        "This is nothing but the function $f(x) = kx$ applied element-wise. `NumPy` extends this feature for any arbitrary function. For example, consider the function $g(x) = x^2$. This can be applied element-wise:\n",
        "\n",
        "$$\n",
        "g(\\boldsymbol{x}) = \\begin{bmatrix}\n",
        "x_1^2\\\\\n",
        "\\cdots\\\\\n",
        "x_m^2\n",
        "\\end{bmatrix}\n",
        "$$\n",
        "\n",
        "In `NumPy`, this translates to:"
      ],
      "metadata": {
        "id": "lCBE5ZJb0K8k"
      }
    },
    {
      "cell_type": "code",
      "source": [
        "b = x ** 2\n",
        "b"
      ],
      "metadata": {
        "colab": {
          "base_uri": "https://localhost:8080/"
        },
        "id": "4mBTwdeF0LmE",
        "outputId": "4502bbe4-21d6-40b4-a4b9-2583760f6180"
      },
      "execution_count": null,
      "outputs": [
        {
          "output_type": "execute_result",
          "data": {
            "text/plain": [
              "array([1, 4, 9])"
            ]
          },
          "metadata": {},
          "execution_count": 35
        }
      ]
    },
    {
      "cell_type": "markdown",
      "source": [
        "We can take up more complex functions as well. For example, let us take the case of `np.log10`, which is $\\log_{10}$:"
      ],
      "metadata": {
        "id": "iYJZkdZr0Vo_"
      }
    },
    {
      "cell_type": "code",
      "source": [
        "a = np.array([10, 100, 1000, 10000])\n",
        "b = np.log10(a)\n",
        "b"
      ],
      "metadata": {
        "colab": {
          "base_uri": "https://localhost:8080/"
        },
        "id": "HIXrliB10Wad",
        "outputId": "8413cee0-8e8c-4283-efad-8f68f5cd01e6"
      },
      "execution_count": null,
      "outputs": [
        {
          "output_type": "execute_result",
          "data": {
            "text/plain": [
              "array([1., 2., 3., 4.])"
            ]
          },
          "metadata": {},
          "execution_count": 36
        }
      ]
    },
    {
      "cell_type": "markdown",
      "source": [
        "\\Usually, we will stick to the natural logarithm or $\\log_e$. This is given by `np.log`."
      ],
      "metadata": {
        "id": "hC1_cJI707v4"
      }
    },
    {
      "cell_type": "code",
      "source": [
        "a = np.array([1, np.e, np.e**2, np.e**3])\n",
        "b = np.log(a)\n",
        "b"
      ],
      "metadata": {
        "colab": {
          "base_uri": "https://localhost:8080/"
        },
        "id": "5dRZ2mk20_vb",
        "outputId": "2737f9b1-c7e1-4ce6-d755-f71f9c9383c7"
      },
      "execution_count": null,
      "outputs": [
        {
          "output_type": "execute_result",
          "data": {
            "text/plain": [
              "array([0., 1., 2., 3.])"
            ]
          },
          "metadata": {},
          "execution_count": 37
        }
      ]
    },
    {
      "cell_type": "markdown",
      "source": [
        "## Dot Product\n",
        "\n",
        "The dot product between two vectors $\\mathbf{x}$ and $\\mathbf{y}$ is given as follows:\n",
        "\n",
        "$$\n",
        "z = \\mathbf{x} \\cdot \\mathbf{y} = \\sum \\limits_{j = 1}^{m} x_j y_j\n",
        "$$\n",
        "\n",
        "In `NumPy`, this could be done as follows:"
      ],
      "metadata": {
        "id": "yMXlQ12N1TD7"
      }
    },
    {
      "cell_type": "code",
      "source": [
        "np.dot(x, y)"
      ],
      "metadata": {
        "colab": {
          "base_uri": "https://localhost:8080/"
        },
        "id": "odN0nQ4m1TxK",
        "outputId": "546d4f28-2747-4173-eb01-d4bfa37a442c"
      },
      "execution_count": null,
      "outputs": [
        {
          "output_type": "execute_result",
          "data": {
            "text/plain": [
              "np.int64(32)"
            ]
          },
          "metadata": {},
          "execution_count": 39
        }
      ]
    },
    {
      "cell_type": "markdown",
      "source": [
        "## Shape of a vector\n",
        "\n",
        "All `NumPy` arrays have an attribute called `shape`. The shape is a tuple. For vectors (single-dimensional) the shape is of the form $(n, )$, where $n$ is the number of components in the vector."
      ],
      "metadata": {
        "id": "CYyr6BWx1w2K"
      }
    },
    {
      "cell_type": "code",
      "source": [
        "x.shape"
      ],
      "metadata": {
        "colab": {
          "base_uri": "https://localhost:8080/"
        },
        "id": "FEX9pYEj1xt1",
        "outputId": "13482764-909d-490e-dc2b-222a9ad38f31"
      },
      "execution_count": null,
      "outputs": [
        {
          "output_type": "execute_result",
          "data": {
            "text/plain": [
              "(3,)"
            ]
          },
          "metadata": {},
          "execution_count": 41
        }
      ]
    }
  ]
}