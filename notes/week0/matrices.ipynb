{
  "nbformat": 4,
  "nbformat_minor": 0,
  "metadata": {
    "colab": {
      "provenance": []
    },
    "kernelspec": {
      "name": "python3",
      "display_name": "Python 3"
    },
    "language_info": {
      "name": "python"
    }
  },
  "cells": [
    {
      "cell_type": "code",
      "execution_count": null,
      "metadata": {
        "id": "Y5csTh51Cqaj"
      },
      "outputs": [],
      "source": [
        "import numpy as np"
      ]
    },
    {
      "cell_type": "markdown",
      "source": [
        "## Matrix as a `NumPy` array\n",
        "\n",
        "Everything in `NumPy` is an array. A matrix is also an array. The main difference is that a matrix is a two dimensional array. Let us create a simple matrix:\n",
        "\n",
        "$$\n",
        "\\textbf{M} = \\begin{bmatrix}\n",
        "1 & 2 & 3\\\\\n",
        "4 & 5 & 6\\\\\n",
        "7 & 8 & 9\n",
        "\\end{bmatrix}\n",
        "$$\n",
        "\n",
        "In `NumPy` this becomes:"
      ],
      "metadata": {
        "id": "o2R09f_aC5eS"
      }
    },
    {
      "cell_type": "code",
      "source": [
        "M = np.array([[1, 2, 3],[4, 5, 6], [7, 8, 9]])\n",
        "M"
      ],
      "metadata": {
        "colab": {
          "base_uri": "https://localhost:8080/"
        },
        "id": "rV3_JDDrC5_J",
        "outputId": "b9587cc1-baac-43db-b6c3-9fad18b1b603"
      },
      "execution_count": null,
      "outputs": [
        {
          "output_type": "execute_result",
          "data": {
            "text/plain": [
              "array([[1, 2, 3],\n",
              "       [4, 5, 6],\n",
              "       [7, 8, 9]])"
            ]
          },
          "metadata": {},
          "execution_count": 2
        }
      ]
    },
    {
      "cell_type": "markdown",
      "source": [
        "## Adding two matrices\n",
        "\n",
        "Let us now add the following matrices:\n",
        "\n",
        "$$\n",
        "\\textbf{A} = \\begin{bmatrix}\n",
        "1 & 2\\\\\n",
        "3 & 4\n",
        "\\end{bmatrix}, \\textbf{B} = \\begin{bmatrix}\n",
        "5 & 6\\\\\n",
        "7 & 8\n",
        "\\end{bmatrix}\n",
        "$$\n",
        "\n",
        "then,\n",
        "\n",
        "$$\n",
        "\\textbf{C} = \\textbf{A} + \\textbf{B}  = \\begin{bmatrix}\n",
        "6 & 8\\\\\n",
        "10 & 12\n",
        "\\end{bmatrix}\n",
        "$$\n",
        "\n",
        "In `NumPy` this becomes:"
      ],
      "metadata": {
        "id": "VSSlfQxNDFLj"
      }
    },
    {
      "cell_type": "code",
      "source": [
        "A = np.array([[1, 2], [3, 4]])\n",
        "B = np.array([[5, 6], [7, 8]])\n",
        "C = A + B\n",
        "C"
      ],
      "metadata": {
        "colab": {
          "base_uri": "https://localhost:8080/"
        },
        "id": "6KvMiraMDJzC",
        "outputId": "b0b60aae-02dc-42c4-dfac-3ac8d808f120"
      },
      "execution_count": null,
      "outputs": [
        {
          "output_type": "execute_result",
          "data": {
            "text/plain": [
              "array([[ 6,  8],\n",
              "       [10, 12]])"
            ]
          },
          "metadata": {},
          "execution_count": 4
        }
      ]
    },
    {
      "cell_type": "markdown",
      "source": [
        "## Scaling a matrix\n",
        "\n",
        "Scaling a matrix is nothing but element-wise multiplication:\n",
        "\n",
        "$$\n",
        "\\textbf{M} = \\begin{bmatrix}\n",
        "1 & 2 & 3\\\\\n",
        "4 & 5 & 6\\\\\n",
        "7 & 8 & 9\n",
        "\\end{bmatrix}\n",
        "$$\n",
        "\n",
        "then,\n",
        "\n",
        "$$\n",
        "3 \\textbf{M} = \\begin{bmatrix}\n",
        "3 & 6 & 9\\\\\n",
        "12 & 15 & 18\\\\\n",
        "21 & 24 & 27\n",
        "\\end{bmatrix}\n",
        "$$\n",
        "\n",
        "In `NumPy` this becomes:"
      ],
      "metadata": {
        "id": "zXOywtD_Dipx"
      }
    },
    {
      "cell_type": "code",
      "source": [
        "M = np.array([[1, 2, 3], [4, 5, 6], [7, 8, 9]])\n",
        "3 * M"
      ],
      "metadata": {
        "colab": {
          "base_uri": "https://localhost:8080/"
        },
        "id": "69BbLPkmDjPJ",
        "outputId": "1ddb4bfa-a331-4a9c-9ed6-cc50ce5f45e1"
      },
      "execution_count": null,
      "outputs": [
        {
          "output_type": "execute_result",
          "data": {
            "text/plain": [
              "array([[ 3,  6,  9],\n",
              "       [12, 15, 18],\n",
              "       [21, 24, 27]])"
            ]
          },
          "metadata": {},
          "execution_count": 6
        }
      ]
    }
  ]
}